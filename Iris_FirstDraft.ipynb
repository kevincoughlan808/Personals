{
  "nbformat": 4,
  "nbformat_minor": 0,
  "metadata": {
    "colab": {
      "name": "Iris_FirstDraft.ipynb",
      "provenance": [],
      "collapsed_sections": []
    },
    "kernelspec": {
      "name": "python3",
      "display_name": "Python 3"
    }
  },
  "cells": [
    {
      "cell_type": "markdown",
      "metadata": {
        "id": "IopwEZ52AvSY"
      },
      "source": [
        "Project 1 - a miniature project attempting to accurately predict iris types in flowers using the famour Iris dataset and classification models."
      ]
    },
    {
      "cell_type": "code",
      "metadata": {
        "id": "S72pUQan1uBF"
      },
      "source": [
        "##Libraries\r\n",
        "\r\n",
        "import numpy as np\r\n",
        "import matplotlib.pyplot as plt\r\n",
        "import pandas as pd\r\n",
        "import seaborn as sns\r\n",
        "sns.set_palette('husl')"
      ],
      "execution_count": null,
      "outputs": []
    },
    {
      "cell_type": "code",
      "metadata": {
        "id": "5K-_rTvG2T0U"
      },
      "source": [
        "##EDA\r\n",
        "\r\n",
        "dataset = pd.read_csv('/content/iris.data', header = None)\r\n",
        "dataset.columns = names = [\"Sepal Length\",\"Sepal Width\",\"Petal Length\",\"Petal Width\",\"Iris Type\"]"
      ],
      "execution_count": null,
      "outputs": []
    },
    {
      "cell_type": "code",
      "metadata": {
        "colab": {
          "base_uri": "https://localhost:8080/",
          "height": 204
        },
        "id": "OF8xvdCh2pu9",
        "outputId": "ff210457-5124-4afe-d0c6-4280401b55b3"
      },
      "source": [
        "dataset.head()\r\n"
      ],
      "execution_count": null,
      "outputs": [
        {
          "output_type": "execute_result",
          "data": {
            "text/html": [
              "<div>\n",
              "<style scoped>\n",
              "    .dataframe tbody tr th:only-of-type {\n",
              "        vertical-align: middle;\n",
              "    }\n",
              "\n",
              "    .dataframe tbody tr th {\n",
              "        vertical-align: top;\n",
              "    }\n",
              "\n",
              "    .dataframe thead th {\n",
              "        text-align: right;\n",
              "    }\n",
              "</style>\n",
              "<table border=\"1\" class=\"dataframe\">\n",
              "  <thead>\n",
              "    <tr style=\"text-align: right;\">\n",
              "      <th></th>\n",
              "      <th>Sepal Length</th>\n",
              "      <th>Sepal Width</th>\n",
              "      <th>Petal Length</th>\n",
              "      <th>Petal Width</th>\n",
              "      <th>Iris Type</th>\n",
              "    </tr>\n",
              "  </thead>\n",
              "  <tbody>\n",
              "    <tr>\n",
              "      <th>0</th>\n",
              "      <td>5.1</td>\n",
              "      <td>3.5</td>\n",
              "      <td>1.4</td>\n",
              "      <td>0.2</td>\n",
              "      <td>Iris-setosa</td>\n",
              "    </tr>\n",
              "    <tr>\n",
              "      <th>1</th>\n",
              "      <td>4.9</td>\n",
              "      <td>3.0</td>\n",
              "      <td>1.4</td>\n",
              "      <td>0.2</td>\n",
              "      <td>Iris-setosa</td>\n",
              "    </tr>\n",
              "    <tr>\n",
              "      <th>2</th>\n",
              "      <td>4.7</td>\n",
              "      <td>3.2</td>\n",
              "      <td>1.3</td>\n",
              "      <td>0.2</td>\n",
              "      <td>Iris-setosa</td>\n",
              "    </tr>\n",
              "    <tr>\n",
              "      <th>3</th>\n",
              "      <td>4.6</td>\n",
              "      <td>3.1</td>\n",
              "      <td>1.5</td>\n",
              "      <td>0.2</td>\n",
              "      <td>Iris-setosa</td>\n",
              "    </tr>\n",
              "    <tr>\n",
              "      <th>4</th>\n",
              "      <td>5.0</td>\n",
              "      <td>3.6</td>\n",
              "      <td>1.4</td>\n",
              "      <td>0.2</td>\n",
              "      <td>Iris-setosa</td>\n",
              "    </tr>\n",
              "  </tbody>\n",
              "</table>\n",
              "</div>"
            ],
            "text/plain": [
              "   Sepal Length  Sepal Width  Petal Length  Petal Width    Iris Type\n",
              "0           5.1          3.5           1.4          0.2  Iris-setosa\n",
              "1           4.9          3.0           1.4          0.2  Iris-setosa\n",
              "2           4.7          3.2           1.3          0.2  Iris-setosa\n",
              "3           4.6          3.1           1.5          0.2  Iris-setosa\n",
              "4           5.0          3.6           1.4          0.2  Iris-setosa"
            ]
          },
          "metadata": {
            "tags": []
          },
          "execution_count": 6
        }
      ]
    },
    {
      "cell_type": "code",
      "metadata": {
        "colab": {
          "base_uri": "https://localhost:8080/",
          "height": 297
        },
        "id": "VKAWaF8J2sQT",
        "outputId": "5fe35171-27f8-4a65-d90d-c3fa451885b6"
      },
      "source": [
        "dataset.describe()\r\n"
      ],
      "execution_count": null,
      "outputs": [
        {
          "output_type": "execute_result",
          "data": {
            "text/html": [
              "<div>\n",
              "<style scoped>\n",
              "    .dataframe tbody tr th:only-of-type {\n",
              "        vertical-align: middle;\n",
              "    }\n",
              "\n",
              "    .dataframe tbody tr th {\n",
              "        vertical-align: top;\n",
              "    }\n",
              "\n",
              "    .dataframe thead th {\n",
              "        text-align: right;\n",
              "    }\n",
              "</style>\n",
              "<table border=\"1\" class=\"dataframe\">\n",
              "  <thead>\n",
              "    <tr style=\"text-align: right;\">\n",
              "      <th></th>\n",
              "      <th>Sepal Length</th>\n",
              "      <th>Sepal Width</th>\n",
              "      <th>Petal Length</th>\n",
              "      <th>Petal Width</th>\n",
              "    </tr>\n",
              "  </thead>\n",
              "  <tbody>\n",
              "    <tr>\n",
              "      <th>count</th>\n",
              "      <td>150.000000</td>\n",
              "      <td>150.000000</td>\n",
              "      <td>150.000000</td>\n",
              "      <td>150.000000</td>\n",
              "    </tr>\n",
              "    <tr>\n",
              "      <th>mean</th>\n",
              "      <td>5.843333</td>\n",
              "      <td>3.054000</td>\n",
              "      <td>3.758667</td>\n",
              "      <td>1.198667</td>\n",
              "    </tr>\n",
              "    <tr>\n",
              "      <th>std</th>\n",
              "      <td>0.828066</td>\n",
              "      <td>0.433594</td>\n",
              "      <td>1.764420</td>\n",
              "      <td>0.763161</td>\n",
              "    </tr>\n",
              "    <tr>\n",
              "      <th>min</th>\n",
              "      <td>4.300000</td>\n",
              "      <td>2.000000</td>\n",
              "      <td>1.000000</td>\n",
              "      <td>0.100000</td>\n",
              "    </tr>\n",
              "    <tr>\n",
              "      <th>25%</th>\n",
              "      <td>5.100000</td>\n",
              "      <td>2.800000</td>\n",
              "      <td>1.600000</td>\n",
              "      <td>0.300000</td>\n",
              "    </tr>\n",
              "    <tr>\n",
              "      <th>50%</th>\n",
              "      <td>5.800000</td>\n",
              "      <td>3.000000</td>\n",
              "      <td>4.350000</td>\n",
              "      <td>1.300000</td>\n",
              "    </tr>\n",
              "    <tr>\n",
              "      <th>75%</th>\n",
              "      <td>6.400000</td>\n",
              "      <td>3.300000</td>\n",
              "      <td>5.100000</td>\n",
              "      <td>1.800000</td>\n",
              "    </tr>\n",
              "    <tr>\n",
              "      <th>max</th>\n",
              "      <td>7.900000</td>\n",
              "      <td>4.400000</td>\n",
              "      <td>6.900000</td>\n",
              "      <td>2.500000</td>\n",
              "    </tr>\n",
              "  </tbody>\n",
              "</table>\n",
              "</div>"
            ],
            "text/plain": [
              "       Sepal Length  Sepal Width  Petal Length  Petal Width\n",
              "count    150.000000   150.000000    150.000000   150.000000\n",
              "mean       5.843333     3.054000      3.758667     1.198667\n",
              "std        0.828066     0.433594      1.764420     0.763161\n",
              "min        4.300000     2.000000      1.000000     0.100000\n",
              "25%        5.100000     2.800000      1.600000     0.300000\n",
              "50%        5.800000     3.000000      4.350000     1.300000\n",
              "75%        6.400000     3.300000      5.100000     1.800000\n",
              "max        7.900000     4.400000      6.900000     2.500000"
            ]
          },
          "metadata": {
            "tags": []
          },
          "execution_count": 7
        }
      ]
    },
    {
      "cell_type": "code",
      "metadata": {
        "colab": {
          "base_uri": "https://localhost:8080/"
        },
        "id": "JsXVJ22V2wqZ",
        "outputId": "a24ca0ea-d0d8-4d2b-9ca8-4a0dde95c0d8"
      },
      "source": [
        "dataset['Iris Type'].value_counts()\r\n"
      ],
      "execution_count": null,
      "outputs": [
        {
          "output_type": "execute_result",
          "data": {
            "text/plain": [
              "Iris-setosa        50\n",
              "Iris-versicolor    50\n",
              "Iris-virginica     50\n",
              "Name: Iris Type, dtype: int64"
            ]
          },
          "metadata": {
            "tags": []
          },
          "execution_count": 8
        }
      ]
    },
    {
      "cell_type": "code",
      "metadata": {
        "colab": {
          "base_uri": "https://localhost:8080/",
          "height": 726
        },
        "id": "Kpdh7LeQ3HzD",
        "outputId": "546f5280-f268-4ca6-8507-ced401772d42"
      },
      "source": [
        "viz = sns.pairplot(dataset, hue='Iris Type', markers = '+')\r\n",
        "plt.show()"
      ],
      "execution_count": null,
      "outputs": [
        {
          "output_type": "display_data",
          "data": {
            "image/png": "[encoded data removed]",
            "text/plain": [
              "<Figure size 823.25x720 with 20 Axes>"
            ]
          },
          "metadata": {
            "tags": [],
            "needs_background": "light"
          }
        }
      ]
    },
    {
      "cell_type": "markdown",
      "metadata": {
        "id": "3kMvsRJ134Ma"
      },
      "source": [
        "note above the pairwise relationship between features of the Setose iris is distinguished from the relationships of the other two. Also in violin plots, versicolor and virginica tending somewhat to be close with one another while distinct from setosa - particularly in Sepal width\r\n"
      ]
    },
    {
      "cell_type": "code",
      "metadata": {
        "colab": {
          "base_uri": "https://localhost:8080/",
          "height": 279
        },
        "id": "hamHp6w_4m_W",
        "outputId": "815f6a49-9df7-433a-ef93-56626dc23b39"
      },
      "source": [
        "a = sns.violinplot(y='Iris Type', x='Sepal Length', data=dataset, inner='quartile')\r\n"
      ],
      "execution_count": null,
      "outputs": [
        {
          "output_type": "display_data",
          "data": {
            "image/png": "[encoded data removed]",
            "text/plain": [
              "<Figure size 432x288 with 1 Axes>"
            ]
          },
          "metadata": {
            "tags": [],
            "needs_background": "light"
          }
        }
      ]
    },
    {
      "cell_type": "code",
      "metadata": {
        "id": "QxjyEvTx60IE"
      },
      "source": [
        ""
      ],
      "execution_count": null,
      "outputs": []
    },
    {
      "cell_type": "code",
      "metadata": {
        "colab": {
          "base_uri": "https://localhost:8080/",
          "height": 279
        },
        "id": "PU-sMlge41YK",
        "outputId": "5e4901d9-e3e0-466e-c38d-a20a8743b182"
      },
      "source": [
        "b = sns.violinplot(y='Iris Type', x='Sepal Width', data=dataset, inner='quartile')"
      ],
      "execution_count": null,
      "outputs": [
        {
          "output_type": "display_data",
          "data": {
            "image/png": "[encoded data removed]",
            "text/plain": [
              "<Figure size 432x288 with 1 Axes>"
            ]
          },
          "metadata": {
            "tags": [],
            "needs_background": "light"
          }
        }
      ]
    },
    {
      "cell_type": "code",
      "metadata": {
        "colab": {
          "base_uri": "https://localhost:8080/",
          "height": 279
        },
        "id": "5iT-FReI44p6",
        "outputId": "ea23bc1a-2454-405d-b1fd-30d4fec9ab0f"
      },
      "source": [
        "c = sns.violinplot(y='Iris Type', x='Petal Length', data=dataset, inner='quartile')"
      ],
      "execution_count": null,
      "outputs": [
        {
          "output_type": "display_data",
          "data": {
            "image/png": "[encoded data removed]",
            "text/plain": [
              "<Figure size 432x288 with 1 Axes>"
            ]
          },
          "metadata": {
            "tags": [],
            "needs_background": "light"
          }
        }
      ]
    },
    {
      "cell_type": "code",
      "metadata": {
        "colab": {
          "base_uri": "https://localhost:8080/",
          "height": 279
        },
        "id": "HTF_tCMe4-Yj",
        "outputId": "28c20c2f-3384-42fc-adad-2aa4b20ea3b2"
      },
      "source": [
        "d = sns.violinplot(y='Iris Type', x='Petal Width', data=dataset, inner='quartile')"
      ],
      "execution_count": null,
      "outputs": [
        {
          "output_type": "display_data",
          "data": {
            "image/png": "[encoded data removed]",
            "text/plain": [
              "<Figure size 432x288 with 1 Axes>"
            ]
          },
          "metadata": {
            "tags": [],
            "needs_background": "light"
          }
        }
      ]
    },
    {
      "cell_type": "markdown",
      "metadata": {
        "id": "a9QYTOK_5FzU"
      },
      "source": [
        "*Viz was nicked from a Kaggle article on this dataset\r\n"
      ]
    },
    {
      "cell_type": "code",
      "metadata": {
        "colab": {
          "base_uri": "https://localhost:8080/"
        },
        "id": "J5HVSmia693y",
        "outputId": "0dba5d8d-c9c4-4fdf-a75b-c1aff2790a12"
      },
      "source": [
        "## Data Preprocessing\r\n",
        "\r\n",
        "X = dataset.iloc[:, :-1].values\r\n",
        "y = dataset.iloc[:, -1].values\r\n",
        "print(X)\r\n",
        "print(y)"
      ],
      "execution_count": null,
      "outputs": [
        {
          "output_type": "stream",
          "text": [
            "[[5.1 3.5 1.4 0.2]\n",
            " [4.9 3.  1.4 0.2]\n",
            " [4.7 3.2 1.3 0.2]\n",
            " [4.6 3.1 1.5 0.2]\n",
            " [5.  3.6 1.4 0.2]\n",
            " [5.4 3.9 1.7 0.4]\n",
            " [4.6 3.4 1.4 0.3]\n",
            " [5.  3.4 1.5 0.2]\n",
            " [4.4 2.9 1.4 0.2]\n",
            " [4.9 3.1 1.5 0.1]\n",
            " [5.4 3.7 1.5 0.2]\n",
            " [4.8 3.4 1.6 0.2]\n",
            " [4.8 3.  1.4 0.1]\n",
            " [4.3 3.  1.1 0.1]\n",
            " [5.8 4.  1.2 0.2]\n",
            " [5.7 4.4 1.5 0.4]\n",
            " [5.4 3.9 1.3 0.4]\n",
            " [5.1 3.5 1.4 0.3]\n",
            " [5.7 3.8 1.7 0.3]\n",
            " [5.1 3.8 1.5 0.3]\n",
            " [5.4 3.4 1.7 0.2]\n",
            " [5.1 3.7 1.5 0.4]\n",
            " [4.6 3.6 1.  0.2]\n",
            " [5.1 3.3 1.7 0.5]\n",
            " [4.8 3.4 1.9 0.2]\n",
            " [5.  3.  1.6 0.2]\n",
            " [5.  3.4 1.6 0.4]\n",
            " [5.2 3.5 1.5 0.2]\n",
            " [5.2 3.4 1.4 0.2]\n",
            " [4.7 3.2 1.6 0.2]\n",
            " [4.8 3.1 1.6 0.2]\n",
            " [5.4 3.4 1.5 0.4]\n",
            " [5.2 4.1 1.5 0.1]\n",
            " [5.5 4.2 1.4 0.2]\n",
            " [4.9 3.1 1.5 0.1]\n",
            " [5.  3.2 1.2 0.2]\n",
            " [5.5 3.5 1.3 0.2]\n",
            " [4.9 3.1 1.5 0.1]\n",
            " [4.4 3.  1.3 0.2]\n",
            " [5.1 3.4 1.5 0.2]\n",
            " [5.  3.5 1.3 0.3]\n",
            " [4.5 2.3 1.3 0.3]\n",
            " [4.4 3.2 1.3 0.2]\n",
            " [5.  3.5 1.6 0.6]\n",
            " [5.1 3.8 1.9 0.4]\n",
            " [4.8 3.  1.4 0.3]\n",
            " [5.1 3.8 1.6 0.2]\n",
            " [4.6 3.2 1.4 0.2]\n",
            " [5.3 3.7 1.5 0.2]\n",
            " [5.  3.3 1.4 0.2]\n",
            " [7.  3.2 4.7 1.4]\n",
            " [6.4 3.2 4.5 1.5]\n",
            " [6.9 3.1 4.9 1.5]\n",
            " [5.5 2.3 4.  1.3]\n",
            " [6.5 2.8 4.6 1.5]\n",
            " [5.7 2.8 4.5 1.3]\n",
            " [6.3 3.3 4.7 1.6]\n",
            " [4.9 2.4 3.3 1. ]\n",
            " [6.6 2.9 4.6 1.3]\n",
            " [5.2 2.7 3.9 1.4]\n",
            " [5.  2.  3.5 1. ]\n",
            " [5.9 3.  4.2 1.5]\n",
            " [6.  2.2 4.  1. ]\n",
            " [6.1 2.9 4.7 1.4]\n",
            " [5.6 2.9 3.6 1.3]\n",
            " [6.7 3.1 4.4 1.4]\n",
            " [5.6 3.  4.5 1.5]\n",
            " [5.8 2.7 4.1 1. ]\n",
            " [6.2 2.2 4.5 1.5]\n",
            " [5.6 2.5 3.9 1.1]\n",
            " [5.9 3.2 4.8 1.8]\n",
            " [6.1 2.8 4.  1.3]\n",
            " [6.3 2.5 4.9 1.5]\n",
            " [6.1 2.8 4.7 1.2]\n",
            " [6.4 2.9 4.3 1.3]\n",
            " [6.6 3.  4.4 1.4]\n",
            " [6.8 2.8 4.8 1.4]\n",
            " [6.7 3.  5.  1.7]\n",
            " [6.  2.9 4.5 1.5]\n",
            " [5.7 2.6 3.5 1. ]\n",
            " [5.5 2.4 3.8 1.1]\n",
            " [5.5 2.4 3.7 1. ]\n",
            " [5.8 2.7 3.9 1.2]\n",
            " [6.  2.7 5.1 1.6]\n",
            " [5.4 3.  4.5 1.5]\n",
            " [6.  3.4 4.5 1.6]\n",
            " [6.7 3.1 4.7 1.5]\n",
            " [6.3 2.3 4.4 1.3]\n",
            " [5.6 3.  4.1 1.3]\n",
            " [5.5 2.5 4.  1.3]\n",
            " [5.5 2.6 4.4 1.2]\n",
            " [6.1 3.  4.6 1.4]\n",
            " [5.8 2.6 4.  1.2]\n",
            " [5.  2.3 3.3 1. ]\n",
            " [5.6 2.7 4.2 1.3]\n",
            " [5.7 3.  4.2 1.2]\n",
            " [5.7 2.9 4.2 1.3]\n",
            " [6.2 2.9 4.3 1.3]\n",
            " [5.1 2.5 3.  1.1]\n",
            " [5.7 2.8 4.1 1.3]\n",
            " [6.3 3.3 6.  2.5]\n",
            " [5.8 2.7 5.1 1.9]\n",
            " [7.1 3.  5.9 2.1]\n",
            " [6.3 2.9 5.6 1.8]\n",
            " [6.5 3.  5.8 2.2]\n",
            " [7.6 3.  6.6 2.1]\n",
            " [4.9 2.5 4.5 1.7]\n",
            " [7.3 2.9 6.3 1.8]\n",
            " [6.7 2.5 5.8 1.8]\n",
            " [7.2 3.6 6.1 2.5]\n",
            " [6.5 3.2 5.1 2. ]\n",
            " [6.4 2.7 5.3 1.9]\n",
            " [6.8 3.  5.5 2.1]\n",
            " [5.7 2.5 5.  2. ]\n",
            " [5.8 2.8 5.1 2.4]\n",
            " [6.4 3.2 5.3 2.3]\n",
            " [6.5 3.  5.5 1.8]\n",
            " [7.7 3.8 6.7 2.2]\n",
            " [7.7 2.6 6.9 2.3]\n",
            " [6.  2.2 5.  1.5]\n",
            " [6.9 3.2 5.7 2.3]\n",
            " [5.6 2.8 4.9 2. ]\n",
            " [7.7 2.8 6.7 2. ]\n",
            " [6.3 2.7 4.9 1.8]\n",
            " [6.7 3.3 5.7 2.1]\n",
            " [7.2 3.2 6.  1.8]\n",
            " [6.2 2.8 4.8 1.8]\n",
            " [6.1 3.  4.9 1.8]\n",
            " [6.4 2.8 5.6 2.1]\n",
            " [7.2 3.  5.8 1.6]\n",
            " [7.4 2.8 6.1 1.9]\n",
            " [7.9 3.8 6.4 2. ]\n",
            " [6.4 2.8 5.6 2.2]\n",
            " [6.3 2.8 5.1 1.5]\n",
            " [6.1 2.6 5.6 1.4]\n",
            " [7.7 3.  6.1 2.3]\n",
            " [6.3 3.4 5.6 2.4]\n",
            " [6.4 3.1 5.5 1.8]\n",
            " [6.  3.  4.8 1.8]\n",
            " [6.9 3.1 5.4 2.1]\n",
            " [6.7 3.1 5.6 2.4]\n",
            " [6.9 3.1 5.1 2.3]\n",
            " [5.8 2.7 5.1 1.9]\n",
            " [6.8 3.2 5.9 2.3]\n",
            " [6.7 3.3 5.7 2.5]\n",
            " [6.7 3.  5.2 2.3]\n",
            " [6.3 2.5 5.  1.9]\n",
            " [6.5 3.  5.2 2. ]\n",
            " [6.2 3.4 5.4 2.3]\n",
            " [5.9 3.  5.1 1.8]]\n",
            "['Iris-setosa' 'Iris-setosa' 'Iris-setosa' 'Iris-setosa' 'Iris-setosa'\n",
            " 'Iris-setosa' 'Iris-setosa' 'Iris-setosa' 'Iris-setosa' 'Iris-setosa'\n",
            " 'Iris-setosa' 'Iris-setosa' 'Iris-setosa' 'Iris-setosa' 'Iris-setosa'\n",
            " 'Iris-setosa' 'Iris-setosa' 'Iris-setosa' 'Iris-setosa' 'Iris-setosa'\n",
            " 'Iris-setosa' 'Iris-setosa' 'Iris-setosa' 'Iris-setosa' 'Iris-setosa'\n",
            " 'Iris-setosa' 'Iris-setosa' 'Iris-setosa' 'Iris-setosa' 'Iris-setosa'\n",
            " 'Iris-setosa' 'Iris-setosa' 'Iris-setosa' 'Iris-setosa' 'Iris-setosa'\n",
            " 'Iris-setosa' 'Iris-setosa' 'Iris-setosa' 'Iris-setosa' 'Iris-setosa'\n",
            " 'Iris-setosa' 'Iris-setosa' 'Iris-setosa' 'Iris-setosa' 'Iris-setosa'\n",
            " 'Iris-setosa' 'Iris-setosa' 'Iris-setosa' 'Iris-setosa' 'Iris-setosa'\n",
            " 'Iris-versicolor' 'Iris-versicolor' 'Iris-versicolor' 'Iris-versicolor'\n",
            " 'Iris-versicolor' 'Iris-versicolor' 'Iris-versicolor' 'Iris-versicolor'\n",
            " 'Iris-versicolor' 'Iris-versicolor' 'Iris-versicolor' 'Iris-versicolor'\n",
            " 'Iris-versicolor' 'Iris-versicolor' 'Iris-versicolor' 'Iris-versicolor'\n",
            " 'Iris-versicolor' 'Iris-versicolor' 'Iris-versicolor' 'Iris-versicolor'\n",
            " 'Iris-versicolor' 'Iris-versicolor' 'Iris-versicolor' 'Iris-versicolor'\n",
            " 'Iris-versicolor' 'Iris-versicolor' 'Iris-versicolor' 'Iris-versicolor'\n",
            " 'Iris-versicolor' 'Iris-versicolor' 'Iris-versicolor' 'Iris-versicolor'\n",
            " 'Iris-versicolor' 'Iris-versicolor' 'Iris-versicolor' 'Iris-versicolor'\n",
            " 'Iris-versicolor' 'Iris-versicolor' 'Iris-versicolor' 'Iris-versicolor'\n",
            " 'Iris-versicolor' 'Iris-versicolor' 'Iris-versicolor' 'Iris-versicolor'\n",
            " 'Iris-versicolor' 'Iris-versicolor' 'Iris-versicolor' 'Iris-versicolor'\n",
            " 'Iris-versicolor' 'Iris-versicolor' 'Iris-virginica' 'Iris-virginica'\n",
            " 'Iris-virginica' 'Iris-virginica' 'Iris-virginica' 'Iris-virginica'\n",
            " 'Iris-virginica' 'Iris-virginica' 'Iris-virginica' 'Iris-virginica'\n",
            " 'Iris-virginica' 'Iris-virginica' 'Iris-virginica' 'Iris-virginica'\n",
            " 'Iris-virginica' 'Iris-virginica' 'Iris-virginica' 'Iris-virginica'\n",
            " 'Iris-virginica' 'Iris-virginica' 'Iris-virginica' 'Iris-virginica'\n",
            " 'Iris-virginica' 'Iris-virginica' 'Iris-virginica' 'Iris-virginica'\n",
            " 'Iris-virginica' 'Iris-virginica' 'Iris-virginica' 'Iris-virginica'\n",
            " 'Iris-virginica' 'Iris-virginica' 'Iris-virginica' 'Iris-virginica'\n",
            " 'Iris-virginica' 'Iris-virginica' 'Iris-virginica' 'Iris-virginica'\n",
            " 'Iris-virginica' 'Iris-virginica' 'Iris-virginica' 'Iris-virginica'\n",
            " 'Iris-virginica' 'Iris-virginica' 'Iris-virginica' 'Iris-virginica'\n",
            " 'Iris-virginica' 'Iris-virginica' 'Iris-virginica' 'Iris-virginica']\n"
          ],
          "name": "stdout"
        }
      ]
    },
    {
      "cell_type": "code",
      "metadata": {
        "colab": {
          "base_uri": "https://localhost:8080/"
        },
        "id": "qQCBN7Mg7FQb",
        "outputId": "ef2d0af0-7a93-48f4-f251-588816927657"
      },
      "source": [
        "# Encoding the Dependent Variable\r\n",
        "from sklearn.preprocessing import LabelEncoder\r\n",
        "le = LabelEncoder()\r\n",
        "y = le.fit_transform(y)\r\n",
        "print(y)"
      ],
      "execution_count": null,
      "outputs": [
        {
          "output_type": "stream",
          "text": [
            "[0 0 0 0 0 0 0 0 0 0 0 0 0 0 0 0 0 0 0 0 0 0 0 0 0 0 0 0 0 0 0 0 0 0 0 0 0\n",
            " 0 0 0 0 0 0 0 0 0 0 0 0 0 1 1 1 1 1 1 1 1 1 1 1 1 1 1 1 1 1 1 1 1 1 1 1 1\n",
            " 1 1 1 1 1 1 1 1 1 1 1 1 1 1 1 1 1 1 1 1 1 1 1 1 1 1 2 2 2 2 2 2 2 2 2 2 2\n",
            " 2 2 2 2 2 2 2 2 2 2 2 2 2 2 2 2 2 2 2 2 2 2 2 2 2 2 2 2 2 2 2 2 2 2 2 2 2\n",
            " 2 2]\n"
          ],
          "name": "stdout"
        }
      ]
    },
    {
      "cell_type": "code",
      "metadata": {
        "colab": {
          "base_uri": "https://localhost:8080/"
        },
        "id": "h5ZIW_WT7Jhw",
        "outputId": "7ec8f0f2-a666-4365-c55d-5ee2b04ad476"
      },
      "source": [
        "# Splitting the dataset into the Training set and Test set\r\n",
        "from sklearn.model_selection import train_test_split\r\n",
        "X_train, X_test, y_train, y_test = train_test_split(X, y, test_size = 0.2, random_state = 1)\r\n",
        "print(X_train)\r\n",
        "print(X_test)\r\n",
        "print(y_train)\r\n",
        "print(y_test)"
      ],
      "execution_count": null,
      "outputs": [
        {
          "output_type": "stream",
          "text": [
            "[[6.1 3.  4.6 1.4]\n",
            " [7.7 3.  6.1 2.3]\n",
            " [5.6 2.5 3.9 1.1]\n",
            " [6.4 2.8 5.6 2.1]\n",
            " [5.8 2.8 5.1 2.4]\n",
            " [5.3 3.7 1.5 0.2]\n",
            " [5.5 2.3 4.  1.3]\n",
            " [5.2 3.4 1.4 0.2]\n",
            " [6.5 2.8 4.6 1.5]\n",
            " [6.7 2.5 5.8 1.8]\n",
            " [6.8 3.  5.5 2.1]\n",
            " [5.1 3.5 1.4 0.3]\n",
            " [6.  2.2 5.  1.5]\n",
            " [6.3 2.9 5.6 1.8]\n",
            " [6.6 2.9 4.6 1.3]\n",
            " [7.7 2.6 6.9 2.3]\n",
            " [5.7 3.8 1.7 0.3]\n",
            " [5.  3.6 1.4 0.2]\n",
            " [4.8 3.  1.4 0.3]\n",
            " [5.2 2.7 3.9 1.4]\n",
            " [5.1 3.4 1.5 0.2]\n",
            " [5.5 3.5 1.3 0.2]\n",
            " [7.7 3.8 6.7 2.2]\n",
            " [6.9 3.1 5.4 2.1]\n",
            " [7.3 2.9 6.3 1.8]\n",
            " [6.4 2.8 5.6 2.2]\n",
            " [6.2 2.8 4.8 1.8]\n",
            " [6.  3.4 4.5 1.6]\n",
            " [7.7 2.8 6.7 2. ]\n",
            " [5.7 3.  4.2 1.2]\n",
            " [4.8 3.4 1.6 0.2]\n",
            " [5.7 2.5 5.  2. ]\n",
            " [6.3 2.7 4.9 1.8]\n",
            " [4.8 3.  1.4 0.1]\n",
            " [4.7 3.2 1.3 0.2]\n",
            " [6.5 3.  5.8 2.2]\n",
            " [4.6 3.4 1.4 0.3]\n",
            " [6.1 3.  4.9 1.8]\n",
            " [6.5 3.2 5.1 2. ]\n",
            " [6.7 3.1 4.4 1.4]\n",
            " [5.7 2.8 4.5 1.3]\n",
            " [6.7 3.3 5.7 2.5]\n",
            " [6.  3.  4.8 1.8]\n",
            " [5.1 3.8 1.6 0.2]\n",
            " [6.  2.2 4.  1. ]\n",
            " [6.4 2.9 4.3 1.3]\n",
            " [6.5 3.  5.5 1.8]\n",
            " [5.  2.3 3.3 1. ]\n",
            " [6.3 3.3 6.  2.5]\n",
            " [5.5 2.5 4.  1.3]\n",
            " [5.4 3.7 1.5 0.2]\n",
            " [4.9 3.1 1.5 0.1]\n",
            " [5.2 4.1 1.5 0.1]\n",
            " [6.7 3.3 5.7 2.1]\n",
            " [4.4 3.  1.3 0.2]\n",
            " [6.  2.7 5.1 1.6]\n",
            " [6.4 2.7 5.3 1.9]\n",
            " [5.9 3.  5.1 1.8]\n",
            " [5.2 3.5 1.5 0.2]\n",
            " [5.1 3.3 1.7 0.5]\n",
            " [5.8 2.7 4.1 1. ]\n",
            " [4.9 3.1 1.5 0.1]\n",
            " [7.4 2.8 6.1 1.9]\n",
            " [6.2 2.9 4.3 1.3]\n",
            " [7.6 3.  6.6 2.1]\n",
            " [6.7 3.  5.2 2.3]\n",
            " [6.3 2.3 4.4 1.3]\n",
            " [6.2 3.4 5.4 2.3]\n",
            " [7.2 3.6 6.1 2.5]\n",
            " [5.6 2.9 3.6 1.3]\n",
            " [5.7 4.4 1.5 0.4]\n",
            " [5.8 2.7 3.9 1.2]\n",
            " [4.5 2.3 1.3 0.3]\n",
            " [5.5 2.4 3.8 1.1]\n",
            " [6.9 3.1 4.9 1.5]\n",
            " [5.  3.4 1.6 0.4]\n",
            " [6.8 2.8 4.8 1.4]\n",
            " [5.  3.5 1.6 0.6]\n",
            " [4.8 3.4 1.9 0.2]\n",
            " [6.3 3.4 5.6 2.4]\n",
            " [5.6 2.8 4.9 2. ]\n",
            " [6.8 3.2 5.9 2.3]\n",
            " [5.  3.3 1.4 0.2]\n",
            " [5.1 3.7 1.5 0.4]\n",
            " [5.9 3.2 4.8 1.8]\n",
            " [4.6 3.1 1.5 0.2]\n",
            " [5.8 2.7 5.1 1.9]\n",
            " [4.8 3.1 1.6 0.2]\n",
            " [6.5 3.  5.2 2. ]\n",
            " [4.9 2.5 4.5 1.7]\n",
            " [4.6 3.2 1.4 0.2]\n",
            " [6.4 3.2 5.3 2.3]\n",
            " [4.3 3.  1.1 0.1]\n",
            " [5.6 3.  4.1 1.3]\n",
            " [4.4 2.9 1.4 0.2]\n",
            " [5.5 2.4 3.7 1. ]\n",
            " [5.  2.  3.5 1. ]\n",
            " [5.1 3.5 1.4 0.2]\n",
            " [4.9 3.  1.4 0.2]\n",
            " [4.9 2.4 3.3 1. ]\n",
            " [4.6 3.6 1.  0.2]\n",
            " [5.9 3.  4.2 1.5]\n",
            " [6.1 2.9 4.7 1.4]\n",
            " [5.  3.4 1.5 0.2]\n",
            " [6.7 3.1 4.7 1.5]\n",
            " [5.7 2.9 4.2 1.3]\n",
            " [6.2 2.2 4.5 1.5]\n",
            " [7.  3.2 4.7 1.4]\n",
            " [5.8 2.7 5.1 1.9]\n",
            " [5.4 3.4 1.7 0.2]\n",
            " [5.  3.  1.6 0.2]\n",
            " [6.1 2.6 5.6 1.4]\n",
            " [6.1 2.8 4.  1.3]\n",
            " [7.2 3.  5.8 1.6]\n",
            " [5.7 2.6 3.5 1. ]\n",
            " [6.3 2.8 5.1 1.5]\n",
            " [6.4 3.1 5.5 1.8]\n",
            " [6.3 2.5 4.9 1.5]\n",
            " [6.7 3.1 5.6 2.4]\n",
            " [4.9 3.1 1.5 0.1]]\n",
            "[[5.8 4.  1.2 0.2]\n",
            " [5.1 2.5 3.  1.1]\n",
            " [6.6 3.  4.4 1.4]\n",
            " [5.4 3.9 1.3 0.4]\n",
            " [7.9 3.8 6.4 2. ]\n",
            " [6.3 3.3 4.7 1.6]\n",
            " [6.9 3.1 5.1 2.3]\n",
            " [5.1 3.8 1.9 0.4]\n",
            " [4.7 3.2 1.6 0.2]\n",
            " [6.9 3.2 5.7 2.3]\n",
            " [5.6 2.7 4.2 1.3]\n",
            " [5.4 3.9 1.7 0.4]\n",
            " [7.1 3.  5.9 2.1]\n",
            " [6.4 3.2 4.5 1.5]\n",
            " [6.  2.9 4.5 1.5]\n",
            " [4.4 3.2 1.3 0.2]\n",
            " [5.8 2.6 4.  1.2]\n",
            " [5.6 3.  4.5 1.5]\n",
            " [5.4 3.4 1.5 0.4]\n",
            " [5.  3.2 1.2 0.2]\n",
            " [5.5 2.6 4.4 1.2]\n",
            " [5.4 3.  4.5 1.5]\n",
            " [6.7 3.  5.  1.7]\n",
            " [5.  3.5 1.3 0.3]\n",
            " [7.2 3.2 6.  1.8]\n",
            " [5.7 2.8 4.1 1.3]\n",
            " [5.5 4.2 1.4 0.2]\n",
            " [5.1 3.8 1.5 0.3]\n",
            " [6.1 2.8 4.7 1.2]\n",
            " [6.3 2.5 5.  1.9]]\n",
            "[1 2 1 2 2 0 1 0 1 2 2 0 2 2 1 2 0 0 0 1 0 0 2 2 2 2 2 1 2 1 0 2 2 0 0 2 0\n",
            " 2 2 1 1 2 2 0 1 1 2 1 2 1 0 0 0 2 0 1 2 2 0 0 1 0 2 1 2 2 1 2 2 1 0 1 0 1\n",
            " 1 0 1 0 0 2 2 2 0 0 1 0 2 0 2 2 0 2 0 1 0 1 1 0 0 1 0 1 1 0 1 1 1 1 2 0 0\n",
            " 2 1 2 1 2 2 1 2 0]\n",
            "[0 1 1 0 2 1 2 0 0 2 1 0 2 1 1 0 1 1 0 0 1 1 1 0 2 1 0 0 1 2]\n"
          ],
          "name": "stdout"
        }
      ]
    },
    {
      "cell_type": "code",
      "metadata": {
        "colab": {
          "base_uri": "https://localhost:8080/"
        },
        "id": "rSDgOHjr7R2s",
        "outputId": "c083caea-647f-4920-996b-4278d4730751"
      },
      "source": [
        "# Feature Scaling\r\n",
        "from sklearn.preprocessing import StandardScaler\r\n",
        "sc = StandardScaler()\r\n",
        "X_train[:, 0:4] = sc.fit_transform(X_train[:, 0:4])\r\n",
        "X_test[:, 0:4] = sc.transform(X_test[:, 0:4])\r\n",
        "print(X_train)\r\n",
        "print(X_test)"
      ],
      "execution_count": null,
      "outputs": [
        {
          "output_type": "stream",
          "text": [
            "[[ 0.31553662 -0.03612186  0.44748582  0.2345312 ]\n",
            " [ 2.2449325  -0.03612186  1.29803965  1.39642889]\n",
            " [-0.2873996  -1.240184    0.0505607  -0.15276803]\n",
            " [ 0.67729835 -0.51774672  1.01452171  1.13822941]\n",
            " [-0.04622511 -0.51774672  0.73100376  1.52552864]\n",
            " [-0.64916132  1.64956512 -1.31032543 -1.31466572]\n",
            " [-0.40798684 -1.72180885  0.10726429  0.10543146]\n",
            " [-0.76974857  0.92712784 -1.36702901 -1.31466572]\n",
            " [ 0.79788559 -0.51774672  0.44748582  0.36363094]\n",
            " [ 1.03906007 -1.240184    1.12792888  0.75093018]\n",
            " [ 1.15964732 -0.03612186  0.95781812  1.13822941]\n",
            " [-0.89033581  1.16794027 -1.36702901 -1.18556598]\n",
            " [ 0.19494938 -1.96262128  0.67430017  0.36363094]\n",
            " [ 0.5567111  -0.27693429  1.01452171  0.75093018]\n",
            " [ 0.91847283 -0.27693429  0.44748582  0.10543146]\n",
            " [ 2.2449325  -0.99937157  1.75166836  1.39642889]\n",
            " [-0.16681235  1.89037755 -1.19691825 -1.18556598]\n",
            " [-1.01092305  1.4087527  -1.36702901 -1.31466572]\n",
            " [-1.25209754 -0.03612186 -1.36702901 -1.18556598]\n",
            " [-0.76974857 -0.75855914  0.0505607   0.2345312 ]\n",
            " [-0.89033581  0.92712784 -1.31032543 -1.31466572]\n",
            " [-0.40798684  1.16794027 -1.4237326  -1.31466572]\n",
            " [ 2.2449325   1.89037755  1.63826118  1.26732915]\n",
            " [ 1.28023456  0.20469056  0.90111453  1.13822941]\n",
            " [ 1.76258353 -0.27693429  1.41144682  0.75093018]\n",
            " [ 0.67729835 -0.51774672  1.01452171  1.26732915]\n",
            " [ 0.43612386 -0.51774672  0.560893    0.75093018]\n",
            " [ 0.19494938  0.92712784  0.39078223  0.49273069]\n",
            " [ 2.2449325  -0.51774672  1.63826118  1.00912966]\n",
            " [-0.16681235 -0.03612186  0.22067147 -0.02366829]\n",
            " [-1.25209754  0.92712784 -1.25362184 -1.31466572]\n",
            " [-0.16681235 -1.240184    0.67430017  1.00912966]\n",
            " [ 0.5567111  -0.75855914  0.61759659  0.75093018]\n",
            " [-1.25209754 -0.03612186 -1.36702901 -1.44376547]\n",
            " [-1.37268478  0.44550299 -1.4237326  -1.31466572]\n",
            " [ 0.79788559 -0.03612186  1.12792888  1.26732915]\n",
            " [-1.49327202  0.92712784 -1.36702901 -1.18556598]\n",
            " [ 0.31553662 -0.03612186  0.61759659  0.75093018]\n",
            " [ 0.79788559  0.44550299  0.73100376  1.00912966]\n",
            " [ 1.03906007  0.20469056  0.33407864  0.2345312 ]\n",
            " [-0.16681235 -0.51774672  0.39078223  0.10543146]\n",
            " [ 1.03906007  0.68631542  1.07122529  1.65462838]\n",
            " [ 0.19494938 -0.03612186  0.560893    0.75093018]\n",
            " [-0.89033581  1.89037755 -1.25362184 -1.31466572]\n",
            " [ 0.19494938 -1.96262128  0.10726429 -0.28186777]\n",
            " [ 0.67729835 -0.27693429  0.27737505  0.10543146]\n",
            " [ 0.79788559 -0.03612186  0.95781812  0.75093018]\n",
            " [-1.01092305 -1.72180885 -0.28966083 -0.28186777]\n",
            " [ 0.5567111   0.68631542  1.24133606  1.65462838]\n",
            " [-0.40798684 -1.240184    0.10726429  0.10543146]\n",
            " [-0.52857408  1.64956512 -1.31032543 -1.31466572]\n",
            " [-1.13151029  0.20469056 -1.31032543 -1.44376547]\n",
            " [-0.76974857  2.61281483 -1.31032543 -1.44376547]\n",
            " [ 1.03906007  0.68631542  1.07122529  1.13822941]\n",
            " [-1.73444651 -0.03612186 -1.4237326  -1.31466572]\n",
            " [ 0.19494938 -0.75855914  0.73100376  0.49273069]\n",
            " [ 0.67729835 -0.75855914  0.84441094  0.88002992]\n",
            " [ 0.07436213 -0.03612186  0.73100376  0.75093018]\n",
            " [-0.76974857  1.16794027 -1.31032543 -1.31466572]\n",
            " [-0.89033581  0.68631542 -1.19691825 -0.92736649]\n",
            " [-0.04622511 -0.75855914  0.16396788 -0.28186777]\n",
            " [-1.13151029  0.20469056 -1.31032543 -1.44376547]\n",
            " [ 1.88317077 -0.51774672  1.29803965  0.88002992]\n",
            " [ 0.43612386 -0.27693429  0.27737505  0.10543146]\n",
            " [ 2.12434526 -0.03612186  1.58155759  1.13822941]\n",
            " [ 1.03906007 -0.03612186  0.78770735  1.39642889]\n",
            " [ 0.5567111  -1.72180885  0.33407864  0.10543146]\n",
            " [ 0.43612386  0.92712784  0.90111453  1.39642889]\n",
            " [ 1.64199629  1.4087527   1.29803965  1.65462838]\n",
            " [-0.2873996  -0.27693429 -0.11955007  0.10543146]\n",
            " [-0.16681235  3.33525211 -1.31032543 -1.05646624]\n",
            " [-0.04622511 -0.75855914  0.0505607  -0.02366829]\n",
            " [-1.61385927 -1.72180885 -1.4237326  -1.18556598]\n",
            " [-0.40798684 -1.48099642 -0.00614289 -0.15276803]\n",
            " [ 1.28023456  0.20469056  0.61759659  0.36363094]\n",
            " [-1.01092305  0.92712784 -1.25362184 -1.05646624]\n",
            " [ 1.15964732 -0.51774672  0.560893    0.2345312 ]\n",
            " [-1.01092305  1.16794027 -1.25362184 -0.79826675]\n",
            " [-1.25209754  0.92712784 -1.08351107 -1.31466572]\n",
            " [ 0.5567111   0.92712784  1.01452171  1.52552864]\n",
            " [-0.2873996  -0.51774672  0.61759659  1.00912966]\n",
            " [ 1.15964732  0.44550299  1.18463247  1.39642889]\n",
            " [-1.01092305  0.68631542 -1.36702901 -1.31466572]\n",
            " [-0.89033581  1.64956512 -1.31032543 -1.05646624]\n",
            " [ 0.07436213  0.44550299  0.560893    0.75093018]\n",
            " [-1.49327202  0.20469056 -1.31032543 -1.31466572]\n",
            " [-0.04622511 -0.75855914  0.73100376  0.88002992]\n",
            " [-1.25209754  0.20469056 -1.25362184 -1.31466572]\n",
            " [ 0.79788559 -0.03612186  0.78770735  1.00912966]\n",
            " [-1.13151029 -1.240184    0.39078223  0.62183043]\n",
            " [-1.49327202  0.44550299 -1.36702901 -1.31466572]\n",
            " [ 0.67729835  0.44550299  0.84441094  1.39642889]\n",
            " [-1.85503375 -0.03612186 -1.53713978 -1.44376547]\n",
            " [-0.2873996  -0.03612186  0.16396788  0.10543146]\n",
            " [-1.73444651 -0.27693429 -1.36702901 -1.31466572]\n",
            " [-0.40798684 -1.48099642 -0.06284648 -0.28186777]\n",
            " [-1.01092305 -2.44424613 -0.17625365 -0.28186777]\n",
            " [-0.89033581  1.16794027 -1.36702901 -1.31466572]\n",
            " [-1.13151029 -0.03612186 -1.36702901 -1.31466572]\n",
            " [-1.13151029 -1.48099642 -0.28966083 -0.28186777]\n",
            " [-1.49327202  1.4087527  -1.59384337 -1.31466572]\n",
            " [ 0.07436213 -0.03612186  0.22067147  0.36363094]\n",
            " [ 0.31553662 -0.27693429  0.50418941  0.2345312 ]\n",
            " [-1.01092305  0.92712784 -1.31032543 -1.31466572]\n",
            " [ 1.03906007  0.20469056  0.50418941  0.36363094]\n",
            " [-0.16681235 -0.27693429  0.22067147  0.10543146]\n",
            " [ 0.43612386 -1.96262128  0.39078223  0.36363094]\n",
            " [ 1.4008218   0.44550299  0.50418941  0.2345312 ]\n",
            " [-0.04622511 -0.75855914  0.73100376  0.88002992]\n",
            " [-0.52857408  0.92712784 -1.19691825 -1.31466572]\n",
            " [-1.01092305 -0.03612186 -1.25362184 -1.31466572]\n",
            " [ 0.31553662 -0.99937157  1.01452171  0.2345312 ]\n",
            " [ 0.31553662 -0.51774672  0.10726429  0.10543146]\n",
            " [ 1.64199629 -0.03612186  1.12792888  0.49273069]\n",
            " [-0.16681235 -0.99937157 -0.17625365 -0.28186777]\n",
            " [ 0.5567111  -0.51774672  0.73100376  0.36363094]\n",
            " [ 0.67729835  0.20469056  0.95781812  0.75093018]\n",
            " [ 0.5567111  -1.240184    0.61759659  0.36363094]\n",
            " [ 1.03906007  0.20469056  1.01452171  1.52552864]\n",
            " [-1.13151029  0.20469056 -1.31032543 -1.44376547]]\n",
            "[[-0.04622511  2.3720024  -1.48043619 -1.31466572]\n",
            " [-0.89033581 -1.240184   -0.4597716  -0.15276803]\n",
            " [ 0.91847283 -0.03612186  0.33407864  0.2345312 ]\n",
            " [-0.52857408  2.13118998 -1.4237326  -1.05646624]\n",
            " [ 2.48610699  1.89037755  1.46815041  1.00912966]\n",
            " [ 0.5567111   0.68631542  0.50418941  0.49273069]\n",
            " [ 1.28023456  0.20469056  0.73100376  1.39642889]\n",
            " [-0.89033581  1.89037755 -1.08351107 -1.05646624]\n",
            " [-1.37268478  0.44550299 -1.25362184 -1.31466572]\n",
            " [ 1.28023456  0.44550299  1.07122529  1.39642889]\n",
            " [-0.2873996  -0.75855914  0.22067147  0.10543146]\n",
            " [-0.52857408  2.13118998 -1.19691825 -1.05646624]\n",
            " [ 1.52140905 -0.03612186  1.18463247  1.13822941]\n",
            " [ 0.67729835  0.44550299  0.39078223  0.36363094]\n",
            " [ 0.19494938 -0.27693429  0.39078223  0.36363094]\n",
            " [-1.73444651  0.44550299 -1.4237326  -1.31466572]\n",
            " [-0.04622511 -0.99937157  0.10726429 -0.02366829]\n",
            " [-0.2873996  -0.03612186  0.39078223  0.36363094]\n",
            " [-0.52857408  0.92712784 -1.31032543 -1.05646624]\n",
            " [-1.01092305  0.44550299 -1.48043619 -1.31466572]\n",
            " [-0.40798684 -0.99937157  0.33407864 -0.02366829]\n",
            " [-0.52857408 -0.03612186  0.39078223  0.36363094]\n",
            " [ 1.03906007 -0.03612186  0.67430017  0.62183043]\n",
            " [-1.01092305  1.16794027 -1.4237326  -1.18556598]\n",
            " [ 1.64199629  0.44550299  1.24133606  0.75093018]\n",
            " [-0.16681235 -0.51774672  0.16396788  0.10543146]\n",
            " [-0.40798684  2.85362726 -1.36702901 -1.31466572]\n",
            " [-0.89033581  1.89037755 -1.31032543 -1.18556598]\n",
            " [ 0.31553662 -0.51774672  0.50418941 -0.02366829]\n",
            " [ 0.5567111  -1.240184    0.67430017  0.88002992]]\n"
          ],
          "name": "stdout"
        }
      ]
    },
    {
      "cell_type": "code",
      "metadata": {
        "colab": {
          "base_uri": "https://localhost:8080/"
        },
        "id": "tgcuxIUm7aiC",
        "outputId": "2e51af30-e8b2-421c-de7c-a9c932c994d8"
      },
      "source": [
        "# Training Naive Bayes model on the training set\r\n",
        "from sklearn.naive_bayes import GaussianNB\r\n",
        "classifier = GaussianNB()\r\n",
        "classifier.fit(X_train, y_train)"
      ],
      "execution_count": null,
      "outputs": [
        {
          "output_type": "execute_result",
          "data": {
            "text/plain": [
              "GaussianNB(priors=None, var_smoothing=1e-09)"
            ]
          },
          "metadata": {
            "tags": []
          },
          "execution_count": 20
        }
      ]
    },
    {
      "cell_type": "code",
      "metadata": {
        "colab": {
          "base_uri": "https://localhost:8080/"
        },
        "id": "iR4JSsXg7fjj",
        "outputId": "3d0c15c9-5a51-454a-e5a0-5df2108c77c2"
      },
      "source": [
        "# Making the confusion Matrix\r\n",
        "from sklearn.metrics import confusion_matrix, accuracy_score\r\n",
        "y_pred = classifier.predict(X_test)\r\n",
        "cm = confusion_matrix(y_test, y_pred)\r\n",
        "print(cm)\r\n",
        "accuracy_score(y_test, y_pred)"
      ],
      "execution_count": null,
      "outputs": [
        {
          "output_type": "stream",
          "text": [
            "[[11  0  0]\n",
            " [ 0 12  1]\n",
            " [ 0  0  6]]\n"
          ],
          "name": "stdout"
        },
        {
          "output_type": "execute_result",
          "data": {
            "text/plain": [
              "0.9666666666666667"
            ]
          },
          "metadata": {
            "tags": []
          },
          "execution_count": 21
        }
      ]
    },
    {
      "cell_type": "markdown",
      "metadata": {
        "id": "J6EIg-xd7iNV"
      },
      "source": [
        "Naive bayes achieves an accuracy of 96.67%.\r\n",
        "Due to having very little data, decided to use k-fold cross validation to add some robustness to the model."
      ]
    },
    {
      "cell_type": "code",
      "metadata": {
        "colab": {
          "base_uri": "https://localhost:8080/"
        },
        "id": "lT-Qeqdd7rr8",
        "outputId": "a24dc43d-32b6-4c4b-87d5-985b89333731"
      },
      "source": [
        "# Applying k-Fold Cross Validation\r\n",
        "from sklearn.model_selection import cross_val_score\r\n",
        "accuracies = cross_val_score(estimator = classifier, X = X_train, y = y_train, cv = 5)\r\n",
        "print(\"Accuracy: {:.2f} %\".format(accuracies.mean()*100))\r\n",
        "print(\"Standard Deviation: {:.2f} %\".format(accuracies.std()*100))"
      ],
      "execution_count": null,
      "outputs": [
        {
          "output_type": "stream",
          "text": [
            "Accuracy: 94.17 %\n",
            "Standard Deviation: 3.33 %\n"
          ],
          "name": "stdout"
        }
      ]
    },
    {
      "cell_type": "code",
      "metadata": {
        "id": "VUgCbue6AeUS"
      },
      "source": [
        ""
      ],
      "execution_count": null,
      "outputs": []
    },
    {
      "cell_type": "markdown",
      "metadata": {
        "id": "cZ50-fI_AQKq"
      },
      "source": [
        "cross val provides with a more reliable figure of accuracy at 94.17% being the average across the five iterations.\r\n"
      ]
    }
  ]
}